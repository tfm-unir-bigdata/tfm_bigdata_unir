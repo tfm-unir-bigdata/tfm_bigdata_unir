{
 "cells": [
  {
   "cell_type": "markdown",
   "id": "aa2c03d8-cd3a-4f21-85e5-c0868f64abab",
   "metadata": {},
   "source": [
    "<div align=\"right\">\n",
    "  <img src=\"Resources/logo_unir.png\" alt=\"Logo UNIR\" height=\"150px\" width=\"25%\">\n",
    "</div>\n",
    "\n",
    "# **Universidad Internacional de La Rioja**\n",
    "## Escuela Superior de Ingeniería y Tecnología\n",
    "### Máster Universitario en Análisis y Visualización de Datos Masivos / Visual Analytics and Big Data\n",
    "\n",
    "### **Trabajo Final de Máster**\n",
    "#### Presentado por:\n",
    "- Cepeda Ramos, Jefferson\n",
    "- Mosquera Arce, Samek Fernando "
   ]
  },
  {
   "cell_type": "markdown",
   "id": "7f8ef539-58d3-4c8b-b883-c51fe37d1238",
   "metadata": {
    "tags": []
   },
   "source": [
    "---\n",
    "## **Objetivo del notebook: Proceso de ingesta de datos datasets productos en la capa Gold**\n",
    "\n",
    "Este proceso tiene como objetivo realizarla ingesta de los datos de productos de usuarios almacenados en la **capa Silver** en GCP (`gs://lk_silver/GSC/reviews/`) en la **capa Gold** en Google BigQuery, en el schema `dw_gold`.\n",
    "\n",
    "El flujo general del proceso contempla los siguientes pasos:\n",
    "\n",
    "1.  **Lectura de los datos**:\n",
    "    * Leer el dataset de productos desde la capa Silver.\n",
    "\n",
    "2.  **Definir las tablas dimensionales**:\n",
    "    * Se definen las tablas dimensionales ingresando una llave subrrogada para los id de la relación.\n",
    "\n",
    "3.  **Definir la tabla de hechos**:\n",
    "\n",
    "    * Se define una tabla de hechos con relación a las tablas dimensionales creadas.\n",
    "\n",
    "5.  **Almacenamiento en Capa Gold**:\n",
    "    * Se hace uso del bucket temporal **dwn_gold** para almacenar los datos y posteriomente hacer la inserción sobre la base de datos en BigQuery.\n",
    "---"
   ]
  },
  {
   "cell_type": "markdown",
   "id": "7bca0bd9-d17b-43f4-92c3-4e72260b53d9",
   "metadata": {
    "tags": []
   },
   "source": [
    "## Instanciar SparkSession"
   ]
  },
  {
   "cell_type": "code",
   "execution_count": 1,
   "id": "f42f3fe5-e916-4247-8ea8-f73b361429c6",
   "metadata": {},
   "outputs": [
    {
     "name": "stdout",
     "output_type": "stream",
     "text": [
      "SparkSession inicializada.\n"
     ]
    }
   ],
   "source": [
    "# Inicializar SparkSession si no está ya disponible\n",
    "try:\n",
    "    spark\n",
    "except NameError:\n",
    "    spark = SparkSession.builder.appName(\"AmazonReviewsProcessing\").getOrCreate()\n",
    "\n",
    "print(\"SparkSession inicializada.\")"
   ]
  },
  {
   "cell_type": "markdown",
   "id": "0bacd2c6-1df6-4e71-9424-1586ad762cd4",
   "metadata": {
    "tags": []
   },
   "source": [
    "## Insertar librerías"
   ]
  },
  {
   "cell_type": "code",
   "execution_count": 2,
   "id": "a8e47ace-a644-4fa4-a6c3-c16a64c96d69",
   "metadata": {},
   "outputs": [],
   "source": [
    "# Importar las librerías necesarias\n",
    "from pyspark.sql import SparkSession\n",
    "from pyspark.sql.functions import (\n",
    "    monotonically_increasing_id, \n",
    "    col, \n",
    "    explode, \n",
    "    to_json, \n",
    "    from_json\n",
    ")\n",
    "from pyspark.sql.types import MapType, StringType"
   ]
  },
  {
   "cell_type": "markdown",
   "id": "f5323554-5407-494c-8650-6e5c4222fe3a",
   "metadata": {
    "tags": []
   },
   "source": [
    "## Definir Parámetros Base"
   ]
  },
  {
   "cell_type": "code",
   "execution_count": 3,
   "id": "09e09199-f782-4191-9718-84ffbb2cb0b2",
   "metadata": {},
   "outputs": [
    {
     "name": "stdout",
     "output_type": "stream",
     "text": [
      "Parámetros definidos\n"
     ]
    }
   ],
   "source": [
    "# Definir el esquema explícito para los datasets de metadatos (productos)\n",
    "# Rutas del datasets en GCP\n",
    "\n",
    "# Ruta origen del dataset en la capa Silver\n",
    "silver_path = \"gs://lk_silver/GSC/products/\"\n",
    "\n",
    "# Nombre Schema en la capa Gold\n",
    "gold_database = \"proyecto-tfm-unir\"\n",
    "gold_schema = \"dw_gold\"\n",
    "gold_bucket = \"dwh_gold\"\n",
    "\n",
    "print(\"Parámetros definidos\")"
   ]
  },
  {
   "cell_type": "markdown",
   "id": "d1fdf686-e095-4fcf-8c6a-67f6d5a395b0",
   "metadata": {},
   "source": [
    "## Leer los dataframe"
   ]
  },
  {
   "cell_type": "code",
   "execution_count": 4,
   "id": "a0244822-f644-4beb-9a53-39072cc9c5c8",
   "metadata": {},
   "outputs": [
    {
     "name": "stdout",
     "output_type": "stream",
     "text": [
      "Leyendo datos de: gs://lk_silver/GSC/products/\n"
     ]
    },
    {
     "name": "stderr",
     "output_type": "stream",
     "text": [
      "[Stage 1:=======================================>                   (2 + 1) / 3]\r"
     ]
    },
    {
     "name": "stdout",
     "output_type": "stream",
     "text": [
      "Total de registros leidos: 211571\n",
      "\n",
      "Mostrando el esquema final del DataFrame:\n",
      "root\n",
      " |-- main_category: string (nullable = true)\n",
      " |-- title: string (nullable = true)\n",
      " |-- average_rating: float (nullable = true)\n",
      " |-- rating_number: long (nullable = true)\n",
      " |-- features: array (nullable = true)\n",
      " |    |-- element: string (containsNull = true)\n",
      " |-- description: array (nullable = true)\n",
      " |    |-- element: string (containsNull = true)\n",
      " |-- price: float (nullable = true)\n",
      " |-- images: array (nullable = true)\n",
      " |    |-- element: struct (containsNull = true)\n",
      " |    |    |-- thumb: string (nullable = true)\n",
      " |    |    |-- large: string (nullable = true)\n",
      " |    |    |-- hi_res: string (nullable = true)\n",
      " |    |    |-- variant: string (nullable = true)\n",
      " |-- videos: array (nullable = true)\n",
      " |    |-- element: struct (containsNull = true)\n",
      " |    |    |-- title: string (nullable = true)\n",
      " |    |    |-- url: string (nullable = true)\n",
      " |    |    |-- user_id: string (nullable = true)\n",
      " |-- store: string (nullable = true)\n",
      " |-- categories: array (nullable = true)\n",
      " |    |-- element: string (containsNull = true)\n",
      " |-- details: struct (nullable = true)\n",
      " |    |-- release_date: string (nullable = true)\n",
      " |    |-- date_first_listed_on_amazon: string (nullable = true)\n",
      " |    |-- developed_by: string (nullable = true)\n",
      " |    |-- size: string (nullable = true)\n",
      " |    |-- version: string (nullable = true)\n",
      " |    |-- application_permissions: array (nullable = true)\n",
      " |    |    |-- element: string (containsNull = true)\n",
      " |    |-- minimum_operating_system: string (nullable = true)\n",
      " |    |-- approximate_download_time: string (nullable = true)\n",
      " |-- parent_asin: string (nullable = true)\n",
      " |-- category: string (nullable = true)\n",
      "\n"
     ]
    },
    {
     "name": "stderr",
     "output_type": "stream",
     "text": [
      "                                                                                \r"
     ]
    }
   ],
   "source": [
    "# Leer el dataset desde la ruta en silver\n",
    "print(f\"Leyendo datos de: {silver_path}\")\n",
    "df = spark.read.parquet(silver_path)\n",
    "\n",
    "initial_row_count = df.count()\n",
    "\n",
    "print(f\"Total de registros leidos: {initial_row_count}\")\n",
    "\n",
    "print(\"\\nMostrando el esquema final del DataFrame:\")\n",
    "df.printSchema()"
   ]
  },
  {
   "cell_type": "markdown",
   "id": "69329735-e8b0-479d-954a-ebce86e3db8b",
   "metadata": {},
   "source": [
    "## Definición de tablas dimensionales"
   ]
  },
  {
   "cell_type": "code",
   "execution_count": 5,
   "id": "8a4e61d4-da18-4f70-bf39-fa8cd7c0adef",
   "metadata": {},
   "outputs": [
    {
     "name": "stdout",
     "output_type": "stream",
     "text": [
      "\n",
      "--- Parte 1: Creando Dimensiones Principales y Simples ---\n",
      "\n",
      "1.1. Creando 'dim_product'...\n",
      "root\n",
      " |-- parent_asin: string (nullable = true)\n",
      " |-- title: string (nullable = true)\n",
      " |-- main_category: string (nullable = true)\n",
      " |-- product_id: long (nullable = false)\n",
      "\n"
     ]
    },
    {
     "name": "stderr",
     "output_type": "stream",
     "text": [
      "                                                                                \r"
     ]
    },
    {
     "name": "stdout",
     "output_type": "stream",
     "text": [
      "+-----------+---------------------------------------------------------------------------------------------------------+-------------------+----------+\n",
      "|parent_asin|title                                                                                                    |main_category      |product_id|\n",
      "+-----------+---------------------------------------------------------------------------------------------------------+-------------------+----------+\n",
      "|0000098906 |Guiros Wooden Percussion 3 Piece Set 3 Inch Wooden Frog, 4 Inch Wooden Cricket and 3.5 Inches Wooden Owl.|Musical Instruments|0         |\n",
      "|0014031655 |Partition classique EDITION PETERS SHOSTAKOVICH DMITRY - 24 PRELUDES OP.34 - PIANO Piano                 |Musical Instruments|1         |\n",
      "|0063052164 |Stranger Planet AUTOGRAPHED / SIGNED BOOK                                                                |Video Games        |2         |\n",
      "|0072826843 |Evolution of the Earth                                                                                   |Books              |3         |\n",
      "|0152049495 |Dogzilla                                                                                                 |Books              |4         |\n",
      "+-----------+---------------------------------------------------------------------------------------------------------+-------------------+----------+\n",
      "only showing top 5 rows\n",
      "\n",
      "\n",
      "1.2. Creando 'dim_store'...\n",
      "root\n",
      " |-- store_name: string (nullable = true)\n",
      " |-- store_id: long (nullable = false)\n",
      "\n"
     ]
    },
    {
     "name": "stderr",
     "output_type": "stream",
     "text": [
      "                                                                                \r"
     ]
    },
    {
     "name": "stdout",
     "output_type": "stream",
     "text": [
      "+--------------------------------------+--------+\n",
      "|store_name                            |store_id|\n",
      "+--------------------------------------+--------+\n",
      "|Mikrotie Ltd                          |0       |\n",
      "|DonaldApp                             |1       |\n",
      "|Sports Radio Apps                     |2       |\n",
      "|C3H Ventures LLC & Finoit Technologies|3       |\n",
      "|Odd But Awesome                       |4       |\n",
      "+--------------------------------------+--------+\n",
      "only showing top 5 rows\n",
      "\n",
      "\n",
      "--- Parte 2: Creando Dimensiones a partir de Listas ---\n",
      "\n",
      "2.1. Creando 'dim_category'...\n",
      "root\n",
      " |-- category_name: string (nullable = true)\n",
      " |-- category_id: long (nullable = false)\n",
      "\n"
     ]
    },
    {
     "name": "stderr",
     "output_type": "stream",
     "text": [
      "                                                                                \r"
     ]
    },
    {
     "name": "stdout",
     "output_type": "stream",
     "text": [
      "+---------------------+-----------+\n",
      "|category_name        |category_id|\n",
      "+---------------------+-----------+\n",
      "|Personal Finance     |0          |\n",
      "|Snare Drums          |1          |\n",
      "|Benches              |2          |\n",
      "|Wood & Inlay Material|3          |\n",
      "|Strobe Effects       |4          |\n",
      "+---------------------+-----------+\n",
      "only showing top 5 rows\n",
      "\n",
      "\n",
      "2.2. Creando 'dim_feature'...\n",
      "root\n",
      " |-- feature_description: string (nullable = true)\n",
      " |-- feature_id: long (nullable = false)\n",
      "\n"
     ]
    },
    {
     "name": "stderr",
     "output_type": "stream",
     "text": [
      "                                                                                \r"
     ]
    },
    {
     "name": "stdout",
     "output_type": "stream",
     "text": [
      "+------------------------------------------------------------------------------------------------------------------------------------------------------------------------------------------------------------------------------------------------------------------------------------------------------------------------------------------------+----------+\n",
      "|feature_description                                                                                                                                                                                                                                                                                                                             |feature_id|\n",
      "+------------------------------------------------------------------------------------------------------------------------------------------------------------------------------------------------------------------------------------------------------------------------------------------------------------------------------------------------+----------+\n",
      "|Adjust brightness, contrast, color temperature, and saturation                                                                                                                                                                                                                                                                                  |0         |\n",
      "|Truck Driving Simulator                                                                                                                                                                                                                                                                                                                         |1         |\n",
      "|5 Cities 5 Trucks 9 Loads                                                                                                                                                                                                                                                                                                                       |2         |\n",
      "|✅ Easy to play and fun little game.                                                                                                                                                                                                                                                                                                             |3         |\n",
      "|Should you be a pokergames game fanatics or fan for live poker, offline blackjack (21), or perhaps your favorites are bingo, lotto, keno, slots, roulette or craps you will want to master gamespoker for sure. Continue on a journey and play! If you want poker games free that are great to play on vacation, this pokerfree game is for you!|4         |\n",
      "+------------------------------------------------------------------------------------------------------------------------------------------------------------------------------------------------------------------------------------------------------------------------------------------------------------------------------------------------+----------+\n",
      "only showing top 5 rows\n",
      "\n",
      "\n",
      "2.3. Creando 'dim_image'...\n",
      "root\n",
      " |-- thumb_url: string (nullable = true)\n",
      " |-- large_url: string (nullable = true)\n",
      " |-- hi_res_url: string (nullable = true)\n",
      " |-- variant: string (nullable = true)\n",
      " |-- image_id: long (nullable = false)\n",
      "\n"
     ]
    },
    {
     "name": "stderr",
     "output_type": "stream",
     "text": [
      "                                                                                \r"
     ]
    },
    {
     "name": "stdout",
     "output_type": "stream",
     "text": [
      "+---------+---------------------------------------------------+----------+-------+--------+\n",
      "|thumb_url|large_url                                          |hi_res_url|variant|image_id|\n",
      "+---------+---------------------------------------------------+----------+-------+--------+\n",
      "|null     |https://m.media-amazon.com/images/I/A1Cc18jGwgL.png|null      |PT06   |0       |\n",
      "|null     |https://m.media-amazon.com/images/I/81ldQbflkqL.jpg|null      |PT01   |1       |\n",
      "|null     |https://m.media-amazon.com/images/I/81KDT5M6FPL.jpg|null      |MAIN   |2       |\n",
      "|null     |https://m.media-amazon.com/images/I/A1gqX5kRouL.png|null      |PT07   |3       |\n",
      "|null     |https://m.media-amazon.com/images/I/811df7hjzmL.png|null      |PT02   |4       |\n",
      "+---------+---------------------------------------------------+----------+-------+--------+\n",
      "only showing top 5 rows\n",
      "\n",
      "\n",
      "--- Parte 3: Creando la Dimensión Flexible para Atributos ('details') ---\n",
      "\n",
      "3.1. Creando 'dim_product_attribute' (Clave-Valor)...\n",
      "root\n",
      " |-- product_id: long (nullable = false)\n",
      " |-- attribute_name: string (nullable = false)\n",
      " |-- attribute_value: string (nullable = true)\n",
      "\n"
     ]
    },
    {
     "name": "stderr",
     "output_type": "stream",
     "text": [
      "[Stage 22:>                                                         (0 + 1) / 1]\r"
     ]
    },
    {
     "name": "stdout",
     "output_type": "stream",
     "text": [
      "+----------+-------------------------+----------------------------------------------------------------------------------------------------------------------------------------------------------------------------------------------------------------------------------------------------------------------------------+\n",
      "|product_id|attribute_name           |attribute_value                                                                                                                                                                                                                                                                   |\n",
      "+----------+-------------------------+----------------------------------------------------------------------------------------------------------------------------------------------------------------------------------------------------------------------------------------------------------------------------------+\n",
      "|14964     |release_date             |2013                                                                                                                                                                                                                                                                              |\n",
      "|14964     |developed_by             |Aaron Steed                                                                                                                                                                                                                                                                       |\n",
      "|14964     |application_permissions  |[\"Open network sockets\"]                                                                                                                                                                                                                                                          |\n",
      "|14964     |minimum_operating_system |Android 2.2                                                                                                                                                                                                                                                                       |\n",
      "|14964     |approximate_download_time|Less than 90 seconds                                                                                                                                                                                                                                                              |\n",
      "|8590027146|release_date             |2019                                                                                                                                                                                                                                                                              |\n",
      "|8590027146|developed_by             |BoxCast                                                                                                                                                                                                                                                                           |\n",
      "|8590027146|application_permissions  |[\"Access information about networks\",\"Access information about Wi-Fi networks\",\"Open network sockets\",\"Read from external storage\",\"Read only access to device state\",\"PowerManager WakeLocks to keep processor from sleeping or screen from dimming\",\"Write to external storage\"]|\n",
      "|8590027146|minimum_operating_system |Android 2.3.3                                                                                                                                                                                                                                                                     |\n",
      "|8590027146|approximate_download_time|Less than 30 seconds                                                                                                                                                                                                                                                              |\n",
      "+----------+-------------------------+----------------------------------------------------------------------------------------------------------------------------------------------------------------------------------------------------------------------------------------------------------------------------------+\n",
      "only showing top 10 rows\n",
      "\n",
      "\n",
      "--- Proceso de creación de dimensiones finalizado. ---\n"
     ]
    },
    {
     "name": "stderr",
     "output_type": "stream",
     "text": [
      "                                                                                \r"
     ]
    }
   ],
   "source": [
    "# Es una buena práctica cachear el DataFrame si se va a usar repetidamente.\n",
    "# Cachear el DataFrame para optimizar las operaciones repetidas sobre él\n",
    "df.cache()\n",
    "\n",
    "# ==============================================================================\n",
    "# PARTE 1: CREACIÓN DE LAS DIMENSIONES PRINCIPALES Y SIMPLES\n",
    "# ==============================================================================\n",
    "print(\"\\n--- Parte 1: Creando Dimensiones Principales y Simples ---\")\n",
    "\n",
    "# 1.1. Dimensión Principal: dim_product\n",
    "# Identifica de forma única cada producto conceptual.\n",
    "print(\"\\n1.1. Creando 'dim_product'...\")\n",
    "dim_product = df.select(\"parent_asin\", \"title\", \"main_category\") \\\n",
    "                .dropDuplicates([\"parent_asin\"])\n",
    "dim_product = dim_product.withColumn(\"product_id\", monotonically_increasing_id())\n",
    "dim_product.printSchema()\n",
    "dim_product.show(5, truncate=False)\n",
    "\n",
    "# 1.2. Dimensión Simple: dim_store\n",
    "# Contiene la lista de todas las tiendas o marcas únicas.\n",
    "print(\"\\n1.2. Creando 'dim_store'...\")\n",
    "dim_store = df.select(col(\"store\").alias(\"store_name\")) \\\n",
    "              .filter(col(\"store_name\").isNotNull()) \\\n",
    "              .dropDuplicates()\n",
    "dim_store = dim_store.withColumn(\"store_id\", monotonically_increasing_id())\n",
    "dim_store.printSchema()\n",
    "dim_store.show(5, truncate=False)\n",
    "\n",
    "\n",
    "# ==============================================================================\n",
    "# PARTE 2: CREACIÓN DE DIMENSIONES A PARTIR DE LISTAS (Arrays)\n",
    "# ==============================================================================\n",
    "print(\"\\n--- Parte 2: Creando Dimensiones a partir de Listas ---\")\n",
    "\n",
    "# 2.1. Dimensión de Categorías: dim_category\n",
    "# Se crea \"explotando\" la lista de categorías para obtener valores únicos.\n",
    "print(\"\\n2.1. Creando 'dim_category'...\")\n",
    "dim_category = df.select(explode(\"categories\").alias(\"category_name\")) \\\n",
    "                 .filter(col(\"category_name\").isNotNull()) \\\n",
    "                 .dropDuplicates()\n",
    "dim_category = dim_category.withColumn(\"category_id\", monotonically_increasing_id())\n",
    "dim_category.printSchema()\n",
    "dim_category.show(5, truncate=False)\n",
    "\n",
    "# 2.2. Dimensión de Características: dim_feature\n",
    "# Mismo proceso, pero para la lista de características.\n",
    "print(\"\\n2.2. Creando 'dim_feature'...\")\n",
    "dim_feature = df.select(explode(\"features\").alias(\"feature_description\")) \\\n",
    "                .filter(col(\"feature_description\").isNotNull()) \\\n",
    "                .dropDuplicates()\n",
    "dim_feature = dim_feature.withColumn(\"feature_id\", monotonically_increasing_id())\n",
    "dim_feature.printSchema()\n",
    "dim_feature.show(5, truncate=False)\n",
    "\n",
    "# 2.3. Dimensión de Imágenes: dim_image\n",
    "# Se explota la lista y luego se seleccionan los campos de la estructura.\n",
    "print(\"\\n2.3. Creando 'dim_image'...\")\n",
    "dim_image = df.select(explode(\"images\").alias(\"image_struct\")) \\\n",
    "              .select(\n",
    "                  col(\"image_struct.thumb\").alias(\"thumb_url\"),\n",
    "                  col(\"image_struct.large\").alias(\"large_url\"),\n",
    "                  col(\"image_struct.hi_res\").alias(\"hi_res_url\"),\n",
    "                  col(\"image_struct.variant\")\n",
    "              ) \\\n",
    "              .filter(col(\"large_url\").isNotNull()) \\\n",
    "              .dropDuplicates([\"thumb_url\", \"large_url\", \"hi_res_url\", \"variant\"])\n",
    "dim_image = dim_image.withColumn(\"image_id\", monotonically_increasing_id())\n",
    "dim_image.printSchema()\n",
    "dim_image.show(5, truncate=False)\n",
    "\n",
    "\n",
    "# ==============================================================================\n",
    "# PARTE 3: CREACIÓN DE LA DIMENSIÓN CLAVE-VALOR PARA `details`\n",
    "# ==============================================================================\n",
    "print(\"\\n--- Parte 3: Creando la Dimensión Flexible para Atributos ('details') ---\")\n",
    "\n",
    "# 3.1. Dimensión de Atributos: dim_product_attribute\n",
    "# Esta es la solución robusta para manejar la estructura variable de 'details'.\n",
    "print(\"\\n3.1. Creando 'dim_product_attribute' (Clave-Valor)...\")\n",
    "# Convertimos la estructura 'details' a un mapa (diccionario) para poder explotarla.\n",
    "map_schema = MapType(StringType(), StringType())\n",
    "details_exploded_df = df.select(\"parent_asin\", explode(from_json(to_json(col(\"details\")), map_schema)) \\\n",
    "                                .alias(\"attribute_name\", \"attribute_value\")) \\\n",
    "                         .filter(col(\"attribute_value\").isNotNull())\n",
    "\n",
    "# Unimos con dim_product para obtener el product_id correcto\n",
    "dim_product_attribute = details_exploded_df.join(dim_product, on=\"parent_asin\", how=\"inner\") \\\n",
    "                                           .select(\"product_id\", \"attribute_name\", \"attribute_value\")\n",
    "dim_product_attribute.printSchema()\n",
    "dim_product_attribute.show(10, truncate=False)\n",
    "\n",
    "print(\"\\n--- Proceso de creación de dimensiones finalizado. ---\")"
   ]
  },
  {
   "cell_type": "markdown",
   "id": "cc282ce4-1a36-4e90-beaa-b5f2918f7473",
   "metadata": {},
   "source": [
    "\n",
    "## Definición tabla de hechos"
   ]
  },
  {
   "cell_type": "code",
   "execution_count": 6,
   "id": "9412c23d-b1e8-459f-b930-563a109ca542",
   "metadata": {},
   "outputs": [
    {
     "name": "stdout",
     "output_type": "stream",
     "text": [
      "\n",
      "--- Iniciando creación de Tabla de Hechos y Tablas Puente ---\n",
      "\n",
      "--- Parte 4: Creando la Tabla de Hechos Central ---\n",
      "\n",
      "4.1. Creando 'fact_product_snapshot'...\n",
      "root\n",
      " |-- product_id: long (nullable = true)\n",
      " |-- store_id: long (nullable = true)\n",
      " |-- price: float (nullable = true)\n",
      " |-- average_rating: float (nullable = true)\n",
      " |-- rating_number: long (nullable = true)\n",
      "\n"
     ]
    },
    {
     "name": "stderr",
     "output_type": "stream",
     "text": [
      "                                                                                \r"
     ]
    },
    {
     "name": "stdout",
     "output_type": "stream",
     "text": [
      "+----------+--------+-----+--------------+-------------+\n",
      "|product_id|store_id|price|average_rating|rating_number|\n",
      "+----------+--------+-----+--------------+-------------+\n",
      "|     49792|   13203| 0.99|           3.3|          106|\n",
      "|8589973089|    4941|  0.0|           3.9|          840|\n",
      "|8589981474|    1621|  0.0|           2.7|           13|\n",
      "|8589983135|   13925|  0.0|           3.6|           11|\n",
      "|     36826|   13738|  0.0|           1.5|            3|\n",
      "+----------+--------+-----+--------------+-------------+\n",
      "only showing top 5 rows\n",
      "\n",
      "\n",
      "--- Parte 5: Creando las Tablas Puente para relaciones M:M ---\n",
      "\n",
      "5.1. Creando 'bridge_product_category'...\n",
      "root\n",
      " |-- product_id: long (nullable = false)\n",
      " |-- category_id: long (nullable = false)\n",
      "\n"
     ]
    },
    {
     "name": "stderr",
     "output_type": "stream",
     "text": [
      "                                                                                \r"
     ]
    },
    {
     "name": "stdout",
     "output_type": "stream",
     "text": [
      "+----------+-----------+\n",
      "|product_id|category_id|\n",
      "+----------+-----------+\n",
      "|8589944858|         47|\n",
      "|     70352|        642|\n",
      "|     78812|        295|\n",
      "|     67067|        698|\n",
      "|     71039|        285|\n",
      "+----------+-----------+\n",
      "only showing top 5 rows\n",
      "\n",
      "\n",
      "5.2. Creando 'bridge_product_feature'...\n",
      "root\n",
      " |-- product_id: long (nullable = false)\n",
      " |-- feature_id: long (nullable = false)\n",
      "\n"
     ]
    },
    {
     "name": "stderr",
     "output_type": "stream",
     "text": [
      "                                                                                \r"
     ]
    },
    {
     "name": "stdout",
     "output_type": "stream",
     "text": [
      "+----------+-----------+\n",
      "|product_id| feature_id|\n",
      "+----------+-----------+\n",
      "|8590058037|25769900055|\n",
      "|8590039892|     100518|\n",
      "|8590048405| 8589956991|\n",
      "|8590052159| 8589973428|\n",
      "|8590061601| 8589964493|\n",
      "+----------+-----------+\n",
      "only showing top 5 rows\n",
      "\n",
      "\n",
      "5.3. Creando 'bridge_product_image'...\n",
      "root\n",
      " |-- product_id: long (nullable = false)\n",
      " |-- image_id: long (nullable = false)\n",
      "\n"
     ]
    },
    {
     "name": "stderr",
     "output_type": "stream",
     "text": [
      "[Stage 54:==============================================>           (4 + 1) / 5]\r"
     ]
    },
    {
     "name": "stdout",
     "output_type": "stream",
     "text": [
      "+----------+-----------+\n",
      "|product_id|   image_id|\n",
      "+----------+-----------+\n",
      "|     43984| 8590000966|\n",
      "|8590052160|17180008040|\n",
      "|     36863| 8589971169|\n",
      "|     30506|      15489|\n",
      "|8590046188|     215915|\n",
      "+----------+-----------+\n",
      "only showing top 5 rows\n",
      "\n"
     ]
    },
    {
     "name": "stderr",
     "output_type": "stream",
     "text": [
      "                                                                                \r"
     ]
    }
   ],
   "source": [
    "print(\"\\n--- Iniciando creación de Tabla de Hechos y Tablas Puente ---\")\n",
    "\n",
    "# ==============================================================================\n",
    "# PARTE 4: CREACIÓN DE LA TABLA DE HECHOS\n",
    "# ==============================================================================\n",
    "print(\"\\n--- Parte 4: Creando la Tabla de Hechos Central ---\")\n",
    "\n",
    "# 4.1. Tabla de Hechos: fact_product_snapshot\n",
    "# Unimos el DF original con las dimensiones para obtener las FKs y las métricas.\n",
    "print(\"\\n4.1. Creando 'fact_product_snapshot'...\")\n",
    "fact_product_snapshot = df.join(dim_product, on=\"parent_asin\", how=\"left\") \\\n",
    "                          .join(dim_store, df.store == dim_store.store_name, how=\"left\") \\\n",
    "                          .select(\n",
    "                              col(\"product_id\"),\n",
    "                              col(\"store_id\"),\n",
    "                              col(\"price\"),\n",
    "                              col(\"average_rating\"),\n",
    "                              col(\"rating_number\")\n",
    "                          ).filter(col(\"product_id\").isNotNull())\n",
    "\n",
    "fact_product_snapshot.printSchema()\n",
    "fact_product_snapshot.show(5)\n",
    "\n",
    "# ==============================================================================\n",
    "# PARTE 5: CREACIÓN DE LAS TABLAS PUENTE (BRIDGE)\n",
    "# ==============================================================================\n",
    "print(\"\\n--- Parte 5: Creando las Tablas Puente para relaciones M:M ---\")\n",
    "\n",
    "# 5.1. Puente Producto-Categoría\n",
    "print(\"\\n5.1. Creando 'bridge_product_category'...\")\n",
    "bridge_product_category = df.select(\"parent_asin\", explode(\"categories\").alias(\"category_name\")) \\\n",
    "    .join(dim_product, on=\"parent_asin\", how=\"inner\") \\\n",
    "    .join(dim_category, on=\"category_name\", how=\"inner\") \\\n",
    "    .select(\"product_id\", \"category_id\").dropDuplicates()\n",
    "bridge_product_category.printSchema()\n",
    "bridge_product_category.show(5)\n",
    "\n",
    "# 5.2. Puente Producto-Característica\n",
    "print(\"\\n5.2. Creando 'bridge_product_feature'...\")\n",
    "bridge_product_feature = df.select(\"parent_asin\", explode(\"features\").alias(\"feature_description\")) \\\n",
    "    .join(dim_product, on=\"parent_asin\", how=\"inner\") \\\n",
    "    .join(dim_feature, on=\"feature_description\", how=\"inner\") \\\n",
    "    .select(\"product_id\", \"feature_id\").dropDuplicates()\n",
    "bridge_product_feature.printSchema()\n",
    "bridge_product_feature.show(5)\n",
    "\n",
    "# 5.3. Puente Producto-Imagen\n",
    "print(\"\\n5.3. Creando 'bridge_product_image'...\")\n",
    "# Usamos un alias en el df original para evitar ambigüedad en la condición del join\n",
    "df_aliased = df.alias(\"df_aliased\")\n",
    "bridge_product_image = df_aliased.select(\"parent_asin\", explode(\"images\").alias(\"image_struct\")) \\\n",
    "    .join(dim_product, on=\"parent_asin\", how=\"inner\") \\\n",
    "    .join(dim_image, (col(\"image_struct.large\") == dim_image.large_url), how=\"inner\") \\\n",
    "    .select(\"product_id\", \"image_id\").dropDuplicates()\n",
    "bridge_product_image.printSchema()\n",
    "bridge_product_image.show(5)\n"
   ]
  },
  {
   "cell_type": "code",
   "execution_count": 7,
   "id": "f9adf852-beb7-4f6b-a4ea-2be2557929ec",
   "metadata": {},
   "outputs": [
    {
     "name": "stdout",
     "output_type": "stream",
     "text": [
      "\n",
      "\n",
      "Proceso de modelado dimensional finalizado con éxito.\n"
     ]
    }
   ],
   "source": [
    "# ==============================================================================\n",
    "# PARTE 6: LIMPIEZA\n",
    "# ==============================================================================\n",
    "# Liberar el DataFrame de la memoria caché al finalizar todo el proceso\n",
    "df.unpersist()\n",
    "\n",
    "print(\"\\n\\nProceso de modelado dimensional finalizado con éxito.\")"
   ]
  },
  {
   "cell_type": "markdown",
   "id": "0d9ec2b6-68df-4f69-a732-f86b6ef541db",
   "metadata": {
    "tags": []
   },
   "source": [
    "## Almacenar datos en capa Gold"
   ]
  },
  {
   "cell_type": "code",
   "execution_count": 8,
   "id": "9259bb0c-e0af-485f-9b7f-1f9d7defe55f",
   "metadata": {},
   "outputs": [],
   "source": [
    "# Función que hace el insert de los datos en BigQuery\n",
    "def insert_df(df, table_name: str):\n",
    "    try:\n",
    "        table_id = f\"{gold_database}.{gold_schema}.{table_name}\"\n",
    "        print(f\"\\n-> Iniciando la ingesta de datos en la tabla: {table_id}\")\n",
    "        \n",
    "        # OPTIMIZACIÓN: Reparticionar el DataFrame antes de escribir.\n",
    "        # Usa un número razonable de particiones. 200 es un buen punto de partida genérico.\n",
    "        # Si el DataFrame es pequeño, esto podría ser excesivo, pero para los grandes es vital.\n",
    "        df_repartitioned = df.repartition(200)\n",
    "\n",
    "        (df_repartitioned.write\n",
    "           .format(\"bigquery\")\n",
    "           .option(\"table\", table_id)\n",
    "           .option(\"temporaryGcsBucket\", gold_bucket)\n",
    "           .mode(\"overwrite\")\n",
    "           .save()\n",
    "        )\n",
    "        # CORRECCIÓN DEL PRINT: Usa la variable 'gold_schema', no un DataFrame.\n",
    "        print(f\"   -- Éxito: La tabla '{table_name}' ha sido creada/sobrescrita en el dataset '{gold_schema}'.\")\n",
    "\n",
    "    except Exception as e:\n",
    "        print(f\"   -- ERROR al insertar la tabla '{table_name}': {e}\")\n",
    "        # Detener el bucle si ocurre un error para no intentar más inserciones\n",
    "        raise e"
   ]
  },
  {
   "cell_type": "code",
   "execution_count": 9,
   "id": "0485ff29-f0fb-4939-85f4-d21ea75165a3",
   "metadata": {},
   "outputs": [
    {
     "name": "stdout",
     "output_type": "stream",
     "text": [
      "\n",
      "-> Iniciando la ingesta de datos en la tabla: proyecto-tfm-unir.dw_gold.dim_product\n"
     ]
    },
    {
     "name": "stderr",
     "output_type": "stream",
     "text": [
      "                                                                                \r"
     ]
    },
    {
     "name": "stdout",
     "output_type": "stream",
     "text": [
      "   -- Éxito: La tabla 'dim_store_product' ha sido creada/sobrescrita en el dataset 'dw_gold'.\n",
      "\n",
      "-> Iniciando la ingesta de datos en la tabla: proyecto-tfm-unir.dw_gold.dim_category_product\n"
     ]
    },
    {
     "name": "stderr",
     "output_type": "stream",
     "text": [
      "                                                                                \r"
     ]
    },
    {
     "name": "stdout",
     "output_type": "stream",
     "text": [
      "   -- Éxito: La tabla 'dim_category_product' ha sido creada/sobrescrita en el dataset 'dw_gold'.\n",
      "\n",
      "-> Iniciando la ingesta de datos en la tabla: proyecto-tfm-unir.dw_gold.dim_feature_product\n"
     ]
    },
    {
     "name": "stderr",
     "output_type": "stream",
     "text": [
      "                                                                                \r"
     ]
    },
    {
     "name": "stdout",
     "output_type": "stream",
     "text": [
      "   -- Éxito: La tabla 'dim_feature_product' ha sido creada/sobrescrita en el dataset 'dw_gold'.\n",
      "\n",
      "-> Iniciando la ingesta de datos en la tabla: proyecto-tfm-unir.dw_gold.dim_image_product\n"
     ]
    },
    {
     "name": "stderr",
     "output_type": "stream",
     "text": [
      "                                                                                \r"
     ]
    },
    {
     "name": "stdout",
     "output_type": "stream",
     "text": [
      "   -- Éxito: La tabla 'dim_image_product' ha sido creada/sobrescrita en el dataset 'dw_gold'.\n",
      "\n",
      "-> Iniciando la ingesta de datos en la tabla: proyecto-tfm-unir.dw_gold.dim_attribute_product\n"
     ]
    },
    {
     "name": "stderr",
     "output_type": "stream",
     "text": [
      "                                                                                \r"
     ]
    },
    {
     "name": "stdout",
     "output_type": "stream",
     "text": [
      "   -- Éxito: La tabla 'dim_attribute_product' ha sido creada/sobrescrita en el dataset 'dw_gold'.\n",
      "\n",
      "-> Iniciando la ingesta de datos en la tabla: proyecto-tfm-unir.dw_gold.fact_product\n"
     ]
    },
    {
     "name": "stderr",
     "output_type": "stream",
     "text": [
      "                                                                                \r"
     ]
    },
    {
     "name": "stdout",
     "output_type": "stream",
     "text": [
      "   -- Éxito: La tabla 'fact_product' ha sido creada/sobrescrita en el dataset 'dw_gold'.\n",
      "\n",
      "-> Iniciando la ingesta de datos en la tabla: proyecto-tfm-unir.dw_gold.bridge_product_category\n"
     ]
    },
    {
     "name": "stderr",
     "output_type": "stream",
     "text": [
      "                                                                                \r"
     ]
    },
    {
     "name": "stdout",
     "output_type": "stream",
     "text": [
      "   -- Éxito: La tabla 'bridge_product_category' ha sido creada/sobrescrita en el dataset 'dw_gold'.\n",
      "\n",
      "-> Iniciando la ingesta de datos en la tabla: proyecto-tfm-unir.dw_gold.bridge_product_feature\n"
     ]
    },
    {
     "name": "stderr",
     "output_type": "stream",
     "text": [
      "                                                                                \r"
     ]
    },
    {
     "name": "stdout",
     "output_type": "stream",
     "text": [
      "   -- Éxito: La tabla 'bridge_product_feature' ha sido creada/sobrescrita en el dataset 'dw_gold'.\n",
      "\n",
      "-> Iniciando la ingesta de datos en la tabla: proyecto-tfm-unir.dw_gold.bridge_product_image\n"
     ]
    },
    {
     "name": "stderr",
     "output_type": "stream",
     "text": [
      "                                                                                \r"
     ]
    },
    {
     "name": "stdout",
     "output_type": "stream",
     "text": [
      "   -- Éxito: La tabla 'bridge_product_image' ha sido creada/sobrescrita en el dataset 'dw_gold'.\n"
     ]
    }
   ],
   "source": [
    "# Insert tablas dimensionales\n",
    "insert_df(dim_product, \"dim_product\")\n",
    "insert_df(dim_store, \"dim_store_product\")\n",
    "insert_df(dim_category, \"dim_category_product\")\n",
    "insert_df(dim_feature, \"dim_feature_product\")\n",
    "insert_df(dim_image, \"dim_image_product\")\n",
    "insert_df(dim_product_attribute, \"dim_attribute_product\")\n",
    "\n",
    "# Insert tabla hechos\n",
    "insert_df(fact_product_snapshot, \"fact_product\")\n",
    "\n",
    "# Tablas puente\n",
    "insert_df(bridge_product_category, \"bridge_product_category\")\n",
    "insert_df(bridge_product_feature, \"bridge_product_feature\")\n",
    "insert_df(bridge_product_image, \"bridge_product_image\")"
   ]
  },
  {
   "cell_type": "markdown",
   "id": "4e1f81d7-7d44-4846-9601-331f4e4f2c8c",
   "metadata": {},
   "source": [
    "## Detener SparkSession"
   ]
  },
  {
   "cell_type": "code",
   "execution_count": 11,
   "id": "f97e3443-bb49-4897-b865-ca112c7f6065",
   "metadata": {},
   "outputs": [],
   "source": [
    "# Detener la SparkSession\n",
    "spark.stop()"
   ]
  }
 ],
 "metadata": {
  "kernelspec": {
   "display_name": "Python 3 (ipykernel)",
   "language": "python",
   "name": "python3"
  },
  "language_info": {
   "codemirror_mode": {
    "name": "ipython",
    "version": 3
   },
   "file_extension": ".py",
   "mimetype": "text/x-python",
   "name": "python",
   "nbconvert_exporter": "python",
   "pygments_lexer": "ipython3",
   "version": "3.12.11"
  }
 },
 "nbformat": 4,
 "nbformat_minor": 5
}
