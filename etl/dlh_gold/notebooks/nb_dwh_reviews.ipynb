{
 "cells": [
  {
   "cell_type": "markdown",
   "id": "aa2c03d8-cd3a-4f21-85e5-c0868f64abab",
   "metadata": {},
   "source": [
    "<div align=\"right\">\n",
    "  <img src=\"Resources/logo_unir.png\" alt=\"Logo UNIR\" height=\"150px\" width=\"25%\">\n",
    "</div>\n",
    "\n",
    "# **Universidad Internacional de La Rioja**\n",
    "## Escuela Superior de Ingeniería y Tecnología\n",
    "### Máster Universitario en Análisis y Visualización de Datos Masivos / Visual Analytics and Big Data\n",
    "\n",
    "### **Trabajo Final de Máster**\n",
    "#### Presentado por:\n",
    "- Cepeda Ramos, Jefferson\n",
    "- Mosquera Arce, Samek Fernando "
   ]
  },
  {
   "cell_type": "markdown",
   "id": "7f8ef539-58d3-4c8b-b883-c51fe37d1238",
   "metadata": {
    "tags": []
   },
   "source": [
    "---\n",
    "## **Objetivo del notebook: Proceso de ingesta de datos datasets reseñas en la capa Gold**\n",
    "\n",
    "Este proceso tiene como objetivo realizarla ingesta de los datos de reseñas de usuarios almacenados en la **capa Silver** en GCP (`gs://lk_silver/GSC/reviews/`) en la **capa Gold** en Google BigQuery, en el schema `dw_gold`.\n",
    "\n",
    "El flujo general del proceso contempla los siguientes pasos:\n",
    "\n",
    "1.  **Lectura de los datos**:\n",
    "    * Leer el dataset de reseñas desde la capa Silver.\n",
    "\n",
    "2.  **Definir las tablas dimensionales**:\n",
    "    * Se definen las tablas dimensionales ingresando una llave subrrogada para los id de la relación.\n",
    "\n",
    "3.  **Definir la tabla de hechos**:\n",
    "\n",
    "    * Se define una tabla de hechos con relación a las tablas dimensionales creadas.\n",
    "\n",
    "5.  **Almacenamiento en Capa Gold**:\n",
    "    * Se hace uso del bucket temporal **dwn_gold** para almacenar los datos y posteriomente hacer la inserción sobre la base de datos en BigQuery.\n",
    "---"
   ]
  },
  {
   "cell_type": "markdown",
   "id": "7bca0bd9-d17b-43f4-92c3-4e72260b53d9",
   "metadata": {
    "tags": []
   },
   "source": [
    "## Instanciar SparkSession"
   ]
  },
  {
   "cell_type": "code",
   "execution_count": 1,
   "id": "f42f3fe5-e916-4247-8ea8-f73b361429c6",
   "metadata": {},
   "outputs": [
    {
     "name": "stdout",
     "output_type": "stream",
     "text": [
      "SparkSession inicializada.\n"
     ]
    }
   ],
   "source": [
    "# Inicializar SparkSession si no está ya disponible\n",
    "try:\n",
    "    spark\n",
    "except NameError:\n",
    "    spark = SparkSession.builder.appName(\"AmazonReviewsProcessing\").getOrCreate()\n",
    "\n",
    "print(\"SparkSession inicializada.\")"
   ]
  },
  {
   "cell_type": "markdown",
   "id": "0bacd2c6-1df6-4e71-9424-1586ad762cd4",
   "metadata": {
    "tags": []
   },
   "source": [
    "## Insertar librerías"
   ]
  },
  {
   "cell_type": "code",
   "execution_count": 2,
   "id": "a8e47ace-a644-4fa4-a6c3-c16a64c96d69",
   "metadata": {},
   "outputs": [],
   "source": [
    "# Importar las librerías necesarias\n",
    "from pyspark.sql import SparkSession\n",
    "from pyspark.sql.functions import col, row_number, monotonically_increasing_id"
   ]
  },
  {
   "cell_type": "markdown",
   "id": "f5323554-5407-494c-8650-6e5c4222fe3a",
   "metadata": {
    "tags": []
   },
   "source": [
    "## Definir Parámetros Base"
   ]
  },
  {
   "cell_type": "code",
   "execution_count": 3,
   "id": "09e09199-f782-4191-9718-84ffbb2cb0b2",
   "metadata": {},
   "outputs": [
    {
     "name": "stdout",
     "output_type": "stream",
     "text": [
      "Parámetros definidos\n"
     ]
    }
   ],
   "source": [
    "# Definir el esquema explícito para los datasets de metadatos (productos)\n",
    "# Rutas del datasets en GCP\n",
    "\n",
    "# Ruta origen del dataset en la capa Silver\n",
    "silver_path = \"gs://lk_silver/GSC/reviews/\"\n",
    "\n",
    "# Nombre Schema en la capa Gold\n",
    "gold_database = \"proyecto-tfm-unir\"\n",
    "gold_schema = \"dw_gold\"\n",
    "gold_bucket = \"dwh_gold\"\n",
    "\n",
    "print(\"Parámetros definidos\")"
   ]
  },
  {
   "cell_type": "markdown",
   "id": "d1fdf686-e095-4fcf-8c6a-67f6d5a395b0",
   "metadata": {},
   "source": [
    "## Leer los dataframe"
   ]
  },
  {
   "cell_type": "code",
   "execution_count": 4,
   "id": "a0244822-f644-4beb-9a53-39072cc9c5c8",
   "metadata": {},
   "outputs": [
    {
     "name": "stdout",
     "output_type": "stream",
     "text": [
      "Leyendo datos de: gs://lk_silver/GSC/reviews/\n"
     ]
    },
    {
     "name": "stderr",
     "output_type": "stream",
     "text": [
      "[Stage 1:=======================================================> (32 + 1) / 33]\r"
     ]
    },
    {
     "name": "stdout",
     "output_type": "stream",
     "text": [
      "Total de registros leidos: 12383878\n",
      "\n",
      "Mostrando el esquema final del DataFrame:\n",
      "root\n",
      " |-- rating: float (nullable = true)\n",
      " |-- title: string (nullable = true)\n",
      " |-- asin: string (nullable = true)\n",
      " |-- parent_asin: string (nullable = true)\n",
      " |-- verified_purchase: boolean (nullable = true)\n",
      " |-- helpful_vote: long (nullable = true)\n",
      " |-- category: string (nullable = true)\n",
      " |-- datetime: string (nullable = true)\n",
      " |-- user_id: string (nullable = true)\n",
      " |-- review: string (nullable = true)\n",
      "\n"
     ]
    },
    {
     "name": "stderr",
     "output_type": "stream",
     "text": [
      "                                                                                \r"
     ]
    }
   ],
   "source": [
    "# Leer el dataset desde la ruta en silver\n",
    "print(f\"Leyendo datos de: {silver_path}\")\n",
    "df = spark.read.parquet(silver_path)\n",
    "\n",
    "initial_row_count = df.count()\n",
    "\n",
    "print(f\"Total de registros leidos: {initial_row_count}\")\n",
    "\n",
    "print(\"\\nMostrando el esquema final del DataFrame:\")\n",
    "df.printSchema()"
   ]
  },
  {
   "cell_type": "markdown",
   "id": "69329735-e8b0-479d-954a-ebce86e3db8b",
   "metadata": {},
   "source": [
    "## Definición de tablas dimensionales"
   ]
  },
  {
   "cell_type": "code",
   "execution_count": 9,
   "id": "8a4e61d4-da18-4f70-bf39-fa8cd7c0adef",
   "metadata": {},
   "outputs": [
    {
     "name": "stdout",
     "output_type": "stream",
     "text": [
      "\n",
      "Inicia el proceso de definición de las tablas dimensionales\n",
      "\n",
      "1.1. Creando 'dim_category'...\n"
     ]
    },
    {
     "name": "stderr",
     "output_type": "stream",
     "text": [
      "                                                                                \r"
     ]
    },
    {
     "name": "stdout",
     "output_type": "stream",
     "text": [
      "+-------------------+-----------+\n",
      "|           category|category_id|\n",
      "+-------------------+-----------+\n",
      "|        Video_Games|          0|\n",
      "|Musical_Instruments|          1|\n",
      "|           Software|          2|\n",
      "+-------------------+-----------+\n",
      "\n",
      "\n",
      "1.2. Creando 'dim_verified_purchase'...\n"
     ]
    },
    {
     "name": "stderr",
     "output_type": "stream",
     "text": [
      "[Stage 19:======================================================> (32 + 1) / 33]\r"
     ]
    },
    {
     "name": "stdout",
     "output_type": "stream",
     "text": [
      "+-----------------+--------------------+\n",
      "|verified_purchase|verified_purchase_id|\n",
      "+-----------------+--------------------+\n",
      "|             true|                   0|\n",
      "|            false|                   1|\n",
      "+-----------------+--------------------+\n",
      "\n"
     ]
    },
    {
     "name": "stderr",
     "output_type": "stream",
     "text": [
      "                                                                                \r"
     ]
    }
   ],
   "source": [
    "print(\"\\nInicia el proceso de definición de las tablas dimensionales\")\n",
    "\n",
    "# dimensión categoría\n",
    "print(\"\\n1.1. Creando 'dim_category'...\")\n",
    "dim_category = df.select(\"category\").dropDuplicates()\n",
    "dim_category = dim_category.withColumn(\"category_id\", monotonically_increasing_id())\n",
    "dim_category.show()\n",
    "\n",
    "# dimensión compras verificadas\n",
    "print(\"\\n1.2. Creando 'dim_verified_purchase'...\")\n",
    "dim_verified_purchase = df.select(\"verified_purchase\").dropDuplicates()\n",
    "dim_verified_purchase = dim_verified_purchase.withColumn(\"verified_purchase_id\", monotonically_increasing_id())\n",
    "dim_verified_purchase.show()"
   ]
  },
  {
   "cell_type": "markdown",
   "id": "cc282ce4-1a36-4e90-beaa-b5f2918f7473",
   "metadata": {},
   "source": [
    "\n",
    "## Definición tabla de hechos"
   ]
  },
  {
   "cell_type": "code",
   "execution_count": 10,
   "id": "9412c23d-b1e8-459f-b930-563a109ca542",
   "metadata": {},
   "outputs": [
    {
     "name": "stdout",
     "output_type": "stream",
     "text": [
      "\n",
      "Inicia el proceso de definición de la tabla de hechos\n",
      "\n",
      "Esquema de la tabla de hechos:\n",
      "root\n",
      " |-- user_id: string (nullable = true)\n",
      " |-- asin: string (nullable = true)\n",
      " |-- parent_asin: string (nullable = true)\n",
      " |-- datetime: string (nullable = true)\n",
      " |-- title: string (nullable = true)\n",
      " |-- review: string (nullable = true)\n",
      " |-- rating: float (nullable = true)\n",
      " |-- helpful_vote: long (nullable = true)\n",
      " |-- category_id: long (nullable = true)\n",
      " |-- verified_purchase_id: long (nullable = true)\n",
      "\n"
     ]
    }
   ],
   "source": [
    "print(\"\\nInicia el proceso de definición de la tabla de hechos\")\n",
    "# Define el df como fact\n",
    "fact = df\n",
    "\n",
    "# Agregar 'category_id' a la tabla fact\n",
    "fact = fact.join(\n",
    "    dim_category.select(\"category\", \"category_id\"),\n",
    "    on=\"category\",\n",
    "    how=\"left\"\n",
    ")\n",
    "\n",
    "# Agregar 'verified_purchase_id' a la tabla fact\n",
    "fact = fact.join(\n",
    "    dim_verified_purchase.select(\"verified_purchase\", \"verified_purchase_id\"),\n",
    "    on=\"verified_purchase\",\n",
    "    how=\"left\"\n",
    ")\n",
    "\n",
    "# Eliminar columnas no necesarias\n",
    "fact = fact.drop(\"category\", \"verified_purchase\")\n",
    "\n",
    "# Define el orden de las columnas para la ingesta en BigQuery\n",
    "column_order = [\n",
    "    \"user_id\",\n",
    "    \"asin\",\n",
    "    \"parent_asin\",\n",
    "    \"datetime\",\n",
    "    \"title\",\n",
    "    \"review\",\n",
    "    \"rating\",\n",
    "    \"helpful_vote\",\n",
    "    \"category_id\",\n",
    "    \"verified_purchase_id\"\n",
    "]\n",
    "\n",
    "# Reordena las columnas\n",
    "fact = fact.select(*column_order)\n",
    "\n",
    "print(\"\\nEsquema de la tabla de hechos:\")\n",
    "fact.printSchema()"
   ]
  },
  {
   "cell_type": "markdown",
   "id": "0d9ec2b6-68df-4f69-a732-f86b6ef541db",
   "metadata": {
    "tags": []
   },
   "source": [
    "## Almacenar datos en capa Gold"
   ]
  },
  {
   "cell_type": "code",
   "execution_count": 11,
   "id": "9259bb0c-e0af-485f-9b7f-1f9d7defe55f",
   "metadata": {},
   "outputs": [],
   "source": [
    "# Función que hace el insert de los datos en BigQuery\n",
    "def insert_df(df, table_name: str):\n",
    "\n",
    "    # Construimos el identificador completo de la tabla\n",
    "    table_id = f\"{gold_database}.{gold_schema}.{table_name}\"\n",
    "\n",
    "    # 2. Proceso de escritura en BigQuery\n",
    "    print(f\"\\nIniciando la ingesta de datos en la tabla: {table_id}\")\n",
    "    print(f\"Modo de escritura: overwrite\")\n",
    "    print(f\"Bucket temporal: {gold_bucket}\")\n",
    "\n",
    "    # Usamos el DataFrameWriter para configurar y ejecutar la operación\n",
    "    (df.write\n",
    "      .format(\"bigquery\")\n",
    "      .option(\"table\", table_id)\n",
    "      .option(\"temporaryGcsBucket\", gold_bucket)\n",
    "      .mode(\"overwrite\")\n",
    "      .save()\n",
    "    )\n",
    "\n",
    "    print(f\"La tabla '{table_name}' ha sido creada/sobrescrita en el dataset '{dim_category}'.\")"
   ]
  },
  {
   "cell_type": "code",
   "execution_count": 12,
   "id": "0485ff29-f0fb-4939-85f4-d21ea75165a3",
   "metadata": {},
   "outputs": [
    {
     "name": "stdout",
     "output_type": "stream",
     "text": [
      "\n",
      "Iniciando la ingesta de datos en la tabla: proyecto-tfm-unir.dw_gold.dim_category\n",
      "Modo de escritura: overwrite\n",
      "Bucket temporal: dwh_gold\n"
     ]
    },
    {
     "name": "stderr",
     "output_type": "stream",
     "text": [
      "                                                                                \r"
     ]
    },
    {
     "name": "stdout",
     "output_type": "stream",
     "text": [
      "La tabla 'dim_category' ha sido creada/sobrescrita en el dataset 'DataFrame[category: string, category_id: bigint]'.\n",
      "\n",
      "Iniciando la ingesta de datos en la tabla: proyecto-tfm-unir.dw_gold.dim_verified_purchase\n",
      "Modo de escritura: overwrite\n",
      "Bucket temporal: dwh_gold\n"
     ]
    },
    {
     "name": "stderr",
     "output_type": "stream",
     "text": [
      "                                                                                \r"
     ]
    },
    {
     "name": "stdout",
     "output_type": "stream",
     "text": [
      "La tabla 'dim_verified_purchase' ha sido creada/sobrescrita en el dataset 'DataFrame[category: string, category_id: bigint]'.\n",
      "\n",
      "Iniciando la ingesta de datos en la tabla: proyecto-tfm-unir.dw_gold.fact_reviews\n",
      "Modo de escritura: overwrite\n",
      "Bucket temporal: dwh_gold\n"
     ]
    },
    {
     "name": "stderr",
     "output_type": "stream",
     "text": [
      "                                                                                \r"
     ]
    },
    {
     "name": "stdout",
     "output_type": "stream",
     "text": [
      "La tabla 'fact_reviews' ha sido creada/sobrescrita en el dataset 'DataFrame[category: string, category_id: bigint]'.\n",
      "\n",
      " Proceso de insert de datos completado.\n"
     ]
    }
   ],
   "source": [
    "# Insert tablas dimensionales\n",
    "insert_df(dim_category, \"dim_category\")\n",
    "insert_df(dim_verified_purchase, \"dim_verified_purchase\")\n",
    "\n",
    "# Insert tabla hechos\n",
    "insert_df(fact, \"fact_reviews\")\n",
    "\n",
    "print(\"\\n Proceso de insert de datos completado.\")"
   ]
  },
  {
   "cell_type": "markdown",
   "id": "4e1f81d7-7d44-4846-9601-331f4e4f2c8c",
   "metadata": {},
   "source": [
    "## Detener SparkSession"
   ]
  },
  {
   "cell_type": "code",
   "execution_count": null,
   "id": "f97e3443-bb49-4897-b865-ca112c7f6065",
   "metadata": {},
   "outputs": [],
   "source": [
    "# Detener la SparkSession\n",
    "spark.stop()"
   ]
  }
 ],
 "metadata": {
  "kernelspec": {
   "display_name": "Python 3 (ipykernel)",
   "language": "python",
   "name": "python3"
  },
  "language_info": {
   "codemirror_mode": {
    "name": "ipython",
    "version": 3
   },
   "file_extension": ".py",
   "mimetype": "text/x-python",
   "name": "python",
   "nbconvert_exporter": "python",
   "pygments_lexer": "ipython3",
   "version": "3.12.11"
  }
 },
 "nbformat": 4,
 "nbformat_minor": 5
}
