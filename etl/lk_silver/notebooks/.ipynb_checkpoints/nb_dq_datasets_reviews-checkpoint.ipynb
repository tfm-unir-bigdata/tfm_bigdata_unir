{
 "cells": [
  {
   "cell_type": "markdown",
   "id": "aa2c03d8-cd3a-4f21-85e5-c0868f64abab",
   "metadata": {},
   "source": [
    "<div align=\"right\">\n",
    "  <img src=\"Resources/logo_unir.png\" alt=\"Logo UNIR\" height=\"150px\" width=\"25%\">\n",
    "</div>\n",
    "\n",
    "# **Universidad Internacional de La Rioja**\n",
    "## Escuela Superior de Ingeniería y Tecnología\n",
    "### Máster Universitario en Análisis y Visualización de Datos Masivos / Visual Analytics and Big Data\n",
    "\n",
    "### **Trabajo Final de Máster**\n",
    "#### Presentado por:\n",
    "- Cepeda Ramos, Jefferson\n",
    "- Mosquera Arce, Samek Fernando "
   ]
  },
  {
   "cell_type": "markdown",
   "id": "7f8ef539-58d3-4c8b-b883-c51fe37d1238",
   "metadata": {
    "tags": []
   },
   "source": [
    "---\n",
    "## **Objetivo del notebook: Proceso de calidad datasets de Reseñas de Usuarios**\n",
    "\n",
    "Este proceso tiene como objetivo realizar un proceso de calidad y transformación de datasets de reseñas de usuarios almacenados en la **capa Bronze** de un data lake en GCP (`gs://lk_bronze/GSC/reviews/`) para prepararlos y moverlos a la **capa Silver** (`gs://lk_silver/GSC/reviews/`). Los datos provienen de múltiples categorías (`software`, `musical_instruments`, `video_games`) y están en formato **Parquet**.\n",
    "\n",
    "El flujo general del proceso contempla los siguientes pasos:\n",
    "\n",
    "1.  **Unificación de Datos**:\n",
    "    * Leer los datasets de reseñas de las categorías `software`, `musical_instruments` y `video_games` desde la capa Bronze.\n",
    "    * Unificar todos los DataFrames en un único DataFrame de Spark.\n",
    "\n",
    "2.  **Manejo de Valores Duplicados**:\n",
    "    * Eliminar registros duplicados dentro del DataFrame unificado, considerando **todos los atributos**, basándose en la identificación previa de 138,357 registros duplicados.\n",
    "\n",
    "3.  **Manejo de datos para el Marco Normativo**: De acuerdo con el marco normativo Europeo y Español para el tratamiento y manejo de información personal sensible, se realizan los siguientes procesos de anonimización y control de datos:\n",
    "\n",
    "    * **`user_id`:** Usar el algoritmo de hash SHA-256 para crear un identificador único e irreversible. Esto cumple con el requisito de desvincular el ID del usuario original.\n",
    "  \n",
    "    * **`text`:** Dando cumplimiento al marco normativo, se realiza la limpieza de nombres propios y geográficos que puedan existir en el campo 'text' de las reseñas. Los datos identificados como sensibles de acuerdo con las listas `sensitive_words_broadcast` se reemplazan por la marca `[CENSORED]` \n",
    "  \n",
    "    * **Eliminación de columnas:*** Conforme al principio de minimización, eliminamos las columnas:\n",
    "  \n",
    "        * `images`: Por su alto riesgo de contener datos identificables.\n",
    "        * `user_id`: La columna original ya no es necesaria tras la anonimización.\n",
    "        * `timestamp`: La columna original fue convertida a fecha con formato 'yyyy-mm-dd hh:mm:ss'\n",
    "\n",
    "5.  **Almacenamiento en Capa Silver**:\n",
    "    * El DataFrame resultante del proceso de calidad se guardará en la capa Silver, en formato **Parquet**.\n",
    "    * El almacenamiento se realizará particionando por la columna `category` en la ruta `gs://lk_silver/GSC/reviews/`, utilizando el modo `overwrite` para garantizar que los datos más recientes reemplacen a los anteriores.\n",
    "\n",
    "---"
   ]
  },
  {
   "cell_type": "markdown",
   "id": "7bca0bd9-d17b-43f4-92c3-4e72260b53d9",
   "metadata": {
    "tags": []
   },
   "source": [
    "## Instanciar SparkSession"
   ]
  },
  {
   "cell_type": "code",
   "execution_count": 24,
   "id": "f42f3fe5-e916-4247-8ea8-f73b361429c6",
   "metadata": {},
   "outputs": [
    {
     "name": "stdout",
     "output_type": "stream",
     "text": [
      "SparkSession inicializada.\n"
     ]
    }
   ],
   "source": [
    "# Inicializar SparkSession si no está ya disponible\n",
    "try:\n",
    "    spark\n",
    "except NameError:\n",
    "    spark = SparkSession.builder.appName(\"AmazonReviewsProcessing\").getOrCreate()\n",
    "\n",
    "print(\"SparkSession inicializada.\")"
   ]
  },
  {
   "cell_type": "markdown",
   "id": "0bacd2c6-1df6-4e71-9424-1586ad762cd4",
   "metadata": {
    "tags": []
   },
   "source": [
    "## Insertar librerías"
   ]
  },
  {
   "cell_type": "code",
   "execution_count": 26,
   "id": "a8e47ace-a644-4fa4-a6c3-c16a64c96d69",
   "metadata": {},
   "outputs": [],
   "source": [
    "# Importar las librerías necesarias\n",
    "from pyspark.sql import SparkSession\n",
    "from pyspark.sql.functions import lit, col, from_unixtime, sha2, udf, length\n",
    "from pyspark.sql.types import StructType, StructField, StringType, ArrayType, LongType, BooleanType, FloatType\n",
    "import requests\n",
    "import re"
   ]
  },
  {
   "cell_type": "markdown",
   "id": "f5323554-5407-494c-8650-6e5c4222fe3a",
   "metadata": {
    "tags": []
   },
   "source": [
    "## Definir Parámetros Base"
   ]
  },
  {
   "cell_type": "code",
   "execution_count": 40,
   "id": "09e09199-f782-4191-9718-84ffbb2cb0b2",
   "metadata": {},
   "outputs": [
    {
     "name": "stdout",
     "output_type": "stream",
     "text": [
      "Parámetros definidos\n"
     ]
    }
   ],
   "source": [
    "# Definir el esquema explícito para los datasets de reviews\n",
    "reviews_schema = StructType([\n",
    "    StructField(\"rating\", FloatType(), True),\n",
    "    StructField(\"title\", StringType(), True),\n",
    "    StructField(\"text\", StringType(), True),\n",
    "    StructField(\"images\", ArrayType(\n",
    "        StructType([\n",
    "            StructField(\"small_image_url\", StringType(), True),\n",
    "            StructField(\"medium_image_url\", StringType(), True),\n",
    "            StructField(\"large_image_url\", StringType(), True)\n",
    "        ])\n",
    "    ), True),\n",
    "    StructField(\"asin\", StringType(), True),\n",
    "    StructField(\"parent_asin\", StringType(), True),\n",
    "    StructField(\"user_id\", StringType(), True),\n",
    "    StructField(\"timestamp\", LongType(), True),\n",
    "    StructField(\"verified_purchase\", BooleanType(), True),\n",
    "    StructField(\"helpful_vote\", LongType(), True),\n",
    "    StructField(\"category\", StringType(), True)\n",
    "])\n",
    "\n",
    "# Rutas de los datasets en GCP\n",
    "bronze_paths = {\n",
    "    \"software\": \"gs://lk_bronze/GSC/reviews/software\",\n",
    "    \"musical_instruments\": \"gs://lk_bronze/GSC/reviews/musical_instruments\",\n",
    "    \"video_games\": \"gs://lk_bronze/GSC/reviews/video_games\",\n",
    "}\n",
    "\n",
    "# Ruta de destino en la capa Silver\n",
    "silver_path = \"gs://lk_silver/GSC/reviews/\"\n",
    "\n",
    "# URLs de las listas de palabras a eliminar\n",
    "URL_CIUDADES_PAISES = \"https://raw.githubusercontent.com/tfm-unir-bigdata/tfm_bigdata_unir/main/Dictionaries/cities_and_countries.txt\"\n",
    "URL_NOMBRES = \"https://raw.githubusercontent.com/tfm-unir-bigdata/tfm_bigdata_unir/refs/heads/main/Dictionaries/first_names.all.txt\"\n",
    "URL_APELLIDOS = \"https://raw.githubusercontent.com/tfm-unir-bigdata/tfm_bigdata_unir/refs/heads/main/Dictionaries/last_names.all.txt\"\n",
    "\n",
    "# Palabra para reemplazar los datos sensibles encontrados\n",
    "REPLACEMENT_WORD = \"[CENSORED]\"\n",
    "\n",
    "print(\"Parámetros definidos\")"
   ]
  },
  {
   "cell_type": "markdown",
   "id": "d1fdf686-e095-4fcf-8c6a-67f6d5a395b0",
   "metadata": {},
   "source": [
    "## Leer los dataframe"
   ]
  },
  {
   "cell_type": "code",
   "execution_count": 28,
   "id": "a0244822-f644-4beb-9a53-39072cc9c5c8",
   "metadata": {},
   "outputs": [
    {
     "name": "stdout",
     "output_type": "stream",
     "text": [
      "Leyendo datos de: gs://lk_bronze/GSC/reviews/software con categoría: software\n",
      "Leyendo datos de: gs://lk_bronze/GSC/reviews/musical_instruments con categoría: musical_instruments\n",
      "Leyendo datos de: gs://lk_bronze/GSC/reviews/video_games con categoría: video_games\n",
      "Unificando DataFrames...\n"
     ]
    },
    {
     "name": "stderr",
     "output_type": "stream",
     "text": [
      "[Stage 27:=====================================================>  (18 + 1) / 19]\r"
     ]
    },
    {
     "name": "stdout",
     "output_type": "stream",
     "text": [
      "Total de registros unificados antes de la calidad: 12522235\n"
     ]
    },
    {
     "name": "stderr",
     "output_type": "stream",
     "text": [
      "                                                                                \r"
     ]
    }
   ],
   "source": [
    "# Lista para almacenar los DataFrames individuales\n",
    "dfs = []\n",
    "\n",
    "# Leer cada dataset desde \"gs://lk_bronze/GSC/\"\n",
    "for category, path in bronze_paths.items():\n",
    "    print(f\"Leyendo datos de: {path} con categoría: {category}\")\n",
    "    df = spark.read.schema(reviews_schema).parquet(path)\n",
    "    dfs.append(df)\n",
    "\n",
    "# Unificar todos los DataFrames\n",
    "print(\"Unificando DataFrames...\")\n",
    "df_reviews = dfs[0]\n",
    "for i in range(1, len(dfs)):\n",
    "    df_reviews = df_reviews.unionByName(dfs[i], allowMissingColumns=True)\n",
    "\n",
    "initial_row_count = df_reviews.count()\n",
    "\n",
    "print(f\"Total de registros unificados antes de la calidad: {initial_row_count}\")"
   ]
  },
  {
   "cell_type": "markdown",
   "id": "6f3ba5cb-7c16-469b-9f89-35d992ac6362",
   "metadata": {
    "tags": []
   },
   "source": [
    "## **Proceso de calidad de datos**"
   ]
  },
  {
   "cell_type": "code",
   "execution_count": 29,
   "id": "2d09a18e-380b-4325-83ec-878984f09869",
   "metadata": {},
   "outputs": [
    {
     "name": "stdout",
     "output_type": "stream",
     "text": [
      "Iniciando proceso de calidad de datos...\n"
     ]
    },
    {
     "name": "stderr",
     "output_type": "stream",
     "text": [
      "[Stage 32:=======================================================>(66 + 1) / 67]\r"
     ]
    },
    {
     "name": "stdout",
     "output_type": "stream",
     "text": [
      "Total de columnas iniciales: 12522235\n"
     ]
    },
    {
     "name": "stderr",
     "output_type": "stream",
     "text": [
      "[Stage 38:=======================================================>(66 + 1) / 67]\r"
     ]
    },
    {
     "name": "stdout",
     "output_type": "stream",
     "text": [
      "Total de columnas después de deduplicar: 12383878\n",
      "Total columnas duplicadas: 138357\n",
      "\n",
      "Iniciando la conversión del formato de fecha...\n",
      "Conversión de fecha finalizada.\n"
     ]
    },
    {
     "name": "stderr",
     "output_type": "stream",
     "text": [
      "                                                                                \r"
     ]
    }
   ],
   "source": [
    "print(\"Iniciando proceso de calidad de datos...\")\n",
    "\n",
    "# Eliminar registros duplicados considerando todas las columnas\n",
    "df_reviews = df_reviews.dropDuplicates()\n",
    "duplicates_removed = initial_row_count - df_reviews.count()\n",
    "\n",
    "print(f\"Total de columnas iniciales: {initial_row_count}\")\n",
    "print(f\"Total de columnas después de deduplicar: {df_reviews.count()}\")\n",
    "print(f\"Total columnas duplicadas: {duplicates_removed}\")\n",
    "\n",
    "# Convertir la fecha 'timestamp' en formato 'yyyy-MM-dd HH:mm:ss' y renombrar el campo como 'datetime'\n",
    "print(\"\\nIniciando la conversión del formato de fecha...\")\n",
    "df_reviews = df_reviews.withColumn(\"datetime\", from_unixtime(col(\"timestamp\") / 1000, \"yyyy-MM-dd HH:mm:ss\"))\n",
    "print(\"Conversión de fecha finalizada.\")"
   ]
  },
  {
   "cell_type": "markdown",
   "id": "fcead87f-9daf-447a-96a8-5a524486f02a",
   "metadata": {
    "tags": []
   },
   "source": [
    "## Funciones auxiliares para anonimización de datos sensibles"
   ]
  },
  {
   "cell_type": "code",
   "execution_count": 30,
   "id": "ac14263a-1bd9-4263-b51e-835b4ed48cfa",
   "metadata": {},
   "outputs": [],
   "source": [
    "def load_sensitive_words_from_urls(urls):\n",
    "    \"\"\"\n",
    "    Descarga palabras de una lista de URLs, las limpia (minúsculas, sin espacios extra)\n",
    "    y las devuelve como un conjunto para una búsqueda eficiente.\n",
    "    \"\"\"\n",
    "    sensitive_words = set()\n",
    "    for url in urls:\n",
    "        try:\n",
    "            response = requests.get(url)\n",
    "            response.raise_for_status()  # Lanza un error para respuestas HTTP fallidas\n",
    "            \n",
    "            # Decodificar usando UTF-8 y dividir por líneas\n",
    "            lines = response.content.decode('utf-8').splitlines()\n",
    "            \n",
    "            # Omitir la primera línea (cabecera) y procesar el resto\n",
    "            for line in lines[1:]:\n",
    "                word = line.strip().lower()\n",
    "                if word:\n",
    "                    sensitive_words.add(word)\n",
    "        except requests.exceptions.RequestException as e:\n",
    "            print(f\"Error descargando la lista desde {url}: {e}\")\n",
    "    return sensitive_words"
   ]
  },
  {
   "cell_type": "code",
   "execution_count": 31,
   "id": "233a42d1-9dd1-4331-86c4-3c0f2efdf1d7",
   "metadata": {},
   "outputs": [],
   "source": [
    "def redesigned_anonymize_logic(text, sensitive_words_broadcast):\n",
    "    \"\"\"\n",
    "    Lógica de la UDF rediseñada para anonimizar texto, asegurando coincidencias\n",
    "    exactas de palabras completas sin distinción de mayúsculas y minúsculas.\n",
    "    \"\"\"\n",
    "    # 1. Manejar casos nulos de entrada para evitar errores.\n",
    "    if text is None:\n",
    "        return None\n",
    "    \n",
    "    # 2. Acceder al conjunto de palabras sensibles desde la variable broadcast.\n",
    "    #    Este conjunto DEBE contener todas las palabras en minúsculas para que la comparación funcione.\n",
    "    sensitive_set = sensitive_words_broadcast.value\n",
    "    \n",
    "    # 3. Tokenizar la cadena. Esta estrategia es clave: divide el texto en \"palabras\"\n",
    "    #    y \"delimitadores\" (espacios, comas, puntos, etc.). Esto permite\n",
    "    #    reconstruir la oración perfectamente con su puntuación original.\n",
    "    tokens = re.split(r'(\\W+)', text)\n",
    "    \n",
    "    # 4. Procesar cada token y construir la lista de salida.\n",
    "    cleaned_tokens = []\n",
    "    for token in tokens:\n",
    "        # Se procesan únicamente los tokens que son palabras reales (no espacios ni puntuación).\n",
    "        # La condición `token.strip()` se asegura de no procesar tokens que son solo espacios.\n",
    "        if token and token.strip():\n",
    "            # La CLAVE está aquí: convertir el token a minúsculas y buscarlo en el conjunto.\n",
    "            # Esto logra una coincidencia exacta de la palabra, ignorando el caso original\n",
    "            # (mayúsculas, minúsculas o capitalizado).\n",
    "            if token.lower() in sensitive_set:\n",
    "                # Si el token es una palabra sensible, se reemplaza.\n",
    "                cleaned_tokens.append(REPLACEMENT_WORD)\n",
    "            else:\n",
    "                # Si NO está en la lista, el token se mantiene sin cambios.\n",
    "                cleaned_tokens.append(token)\n",
    "        else:\n",
    "            # Si el token es un delimitador (espacio, coma, etc.), se mantiene siempre.\n",
    "            cleaned_tokens.append(token)\n",
    "            \n",
    "    # 5. Unir todos los tokens (palabras y delimitadores) para formar la cadena final.\n",
    "    return \"\".join(cleaned_tokens)"
   ]
  },
  {
   "cell_type": "markdown",
   "id": "69329735-e8b0-479d-954a-ebce86e3db8b",
   "metadata": {},
   "source": [
    "## Proceso anonimización y limpieza por marco normativo"
   ]
  },
  {
   "cell_type": "markdown",
   "id": "62789bdb-caec-4de5-8738-e50d3e89e99b",
   "metadata": {},
   "source": [
    "### Anonimizar campo 'user_id'\n",
    "Por cumplimiento del marco normativo, se anonimizan los nombres por un **identificador único e irreversible** mediante el algoritmo SHA-256"
   ]
  },
  {
   "cell_type": "code",
   "execution_count": 32,
   "id": "a39de50b-47cc-47fa-88d5-1c078be754fb",
   "metadata": {},
   "outputs": [
    {
     "name": "stdout",
     "output_type": "stream",
     "text": [
      "\n",
      "Iniciando proceso de anonimización y limpieza según el marco normativo...\n",
      "Paso 1 de 4: 'user_id' anonimizado con éxito.\n"
     ]
    }
   ],
   "source": [
    "print(\"\\nIniciando proceso de anonimización y limpieza según el marco normativo...\")\n",
    "\n",
    "# Anonimización irreversible del 'user_id'\n",
    "# Usamos el algoritmo de hash SHA-256 para crear un identificador único e irreversible.\n",
    "# Esto cumple con el requisito de desvincular el ID del usuario original.\n",
    "df_reviews = df_reviews.withColumn(\"user_id_anonymized\", sha2(col(\"user_id\"), 256))\n",
    "print(\"Paso 1 de 4: 'user_id' anonimizado con éxito.\")"
   ]
  },
  {
   "cell_type": "markdown",
   "id": "1406a5da-f331-4d6a-9dfc-a5a1792d45d3",
   "metadata": {},
   "source": [
    "### Eliminar atributos duplicados y redundantes"
   ]
  },
  {
   "cell_type": "code",
   "execution_count": 33,
   "id": "0dadde90-aaba-4e81-a593-6f2589869755",
   "metadata": {
    "tags": []
   },
   "outputs": [
    {
     "name": "stdout",
     "output_type": "stream",
     "text": [
      "Paso 2 de 4: Columnas de alto riesgo ('images') y redundantes ('user_id', 'timestamp') eliminadas.\n"
     ]
    }
   ],
   "source": [
    "# Eliminación de columnas de alto riesgo y redundantes\n",
    "# Conforme al principio de minimización, eliminamos las columnas:\n",
    "# - 'images': Por su alto riesgo de contener datos identificables.\n",
    "# - 'user_id': La columna original ya no es necesaria tras la anonimización.\n",
    "# - 'timestamp': La columna original ya no es necesaria tras la conversión de formato.\n",
    "df_reviews = df_reviews.drop(\"images\", \"user_id\", \"timestamp\")\n",
    "print(\"Paso 2 de 4: Columnas de alto riesgo ('images') y redundantes ('user_id', 'timestamp') eliminadas.\")"
   ]
  },
  {
   "cell_type": "markdown",
   "id": "c61d9232-67c2-431b-88f4-18f6435452f8",
   "metadata": {},
   "source": [
    "### Renombrar atributo 'user_id'"
   ]
  },
  {
   "cell_type": "code",
   "execution_count": 34,
   "id": "24c1e759-0e8f-41ba-a1c4-36b8f9b3b8cb",
   "metadata": {},
   "outputs": [
    {
     "name": "stdout",
     "output_type": "stream",
     "text": [
      "Paso 3 de 4: Columnas renombradas para mantener la consistencia del esquema.\n"
     ]
    }
   ],
   "source": [
    "# Renombrar la columna 'user_id' anonimizada para mantener la estructura\n",
    "df_reviews = df_reviews.withColumnRenamed(\"user_id_anonymized\", \"user_id\")\n",
    "print(\"Paso 3 de 4: Columnas renombradas para mantener la consistencia del esquema.\")"
   ]
  },
  {
   "cell_type": "markdown",
   "id": "27b9ec8a-fbe8-4897-91fd-4254d2a834d1",
   "metadata": {},
   "source": [
    "### Anonimizar campo 'text' (reseñas)\n",
    "Dando cumplimiento al marco normativo, se realiza la limpieza de **nombres propios y geográficos** que puedan existir en el campo 'text' de las reseñas"
   ]
  },
  {
   "cell_type": "code",
   "execution_count": 45,
   "id": "3bf7d250-2d0d-4587-8fd9-94e68bf73be6",
   "metadata": {},
   "outputs": [
    {
     "name": "stdout",
     "output_type": "stream",
     "text": [
      "Iniciando el proceso de anonimización de texto...\n",
      "Cargando listas de nombres y lugares...\n",
      "Listas cargadas y distribuidas vía broadcast. Total de términos sensibles: 278831\n",
      "Aplicando la UDF de anonimización a la columna 'text'...\n",
      "Filtrando reseñas para que tengan un mínimo de 15 caracteres...\n",
      "\n",
      " Resultado de la anonimización del campo 'text'\n"
     ]
    },
    {
     "name": "stderr",
     "output_type": "stream",
     "text": [
      "[Stage 50:>                                                         (0 + 1) / 1]\r"
     ]
    },
    {
     "name": "stdout",
     "output_type": "stream",
     "text": [
      "+--------------------------------------------------------------------------------------------------------------------------------------------------------------------------------------------------------------------------------------------------------------------------------------------------------------------------------------------------------------------------------------------------------------------------------------------------------------------------------------------------------------------------------------------------------------------------------------------------------------------------------------------------------------------------------------------------------------------------------------------------------------------------------------------------------------+\n",
      "|review                                                                                                                                                                                                                                                                                                                                                                                                                                                                                                                                                                                                                                                                                                                                                                                                        |\n",
      "+--------------------------------------------------------------------------------------------------------------------------------------------------------------------------------------------------------------------------------------------------------------------------------------------------------------------------------------------------------------------------------------------------------------------------------------------------------------------------------------------------------------------------------------------------------------------------------------------------------------------------------------------------------------------------------------------------------------------------------------------------------------------------------------------------------------+\n",
      "|It's easy to use and the stream quality is very good                                                                                                                                                                                                                                                                                                                                                                                                                                                                                                                                                                                                                                                                                                                                                          |\n",
      "|If I had to summarize this game, it would be:<br /><br />FF Nostalgia + evolved Brave Frontier battle system + interesting story/characters = FFBE<br /><br />A linear original main story told through a [CENSORED] stage turn based battle system with weekly events and subquests to keep you occupied. Yes, this is a [CENSORED] game that [CENSORED] forever [CENSORED] for your [CENSORED] earned cash but even without monetary sacrifices, the game is still fun with several freebies that are more [CENSORED] sufficient to get through the story and several [CENSORED] the sub quest [CENSORED] contents. There are weekly banners that [CENSORED] be a good or bad thing depending on your perspective and whether you like the units on the banner. Overall a fun and enjoyable [CENSORED] game.|\n",
      "|Fun and entertaining, a throwback to Frogger eh!!                                                                                                                                                                                                                                                                                                                                                                                                                                                                                                                                                                                                                                                                                                                                                             |\n",
      "|I liked it                                                                                                                                                                                                                                                                                                                                                                                                                                                                                                                                                                                                                                                                                                                                                                                                    |\n",
      "|It's a fun game. Helps pass the [CENSORED].                                                                                                                                                                                                                                                                                                                                                                                                                                                                                                                                                                                                                                                                                                                                                                   |\n",
      "|This game is cool fun and [CENSORED] u should try this ga e out !!!!                                                                                                                                                                                                                                                                                                                                                                                                                                                                                                                                                                                                                                                                                                                                          |\n",
      "|This game sucks. The goal posts keep moving and MZ sucks you [CENSORED] more and more money to keep up. I just do not want to spend thousands keeping up when I [CENSORED] go [CENSORED] a game in the shop for £45 and have no more costs. MZ stop being greedy soon all players [CENSORED] realize and when the [CENSORED] spenders leave where [CENSORED] MZ be then left on the scrap [CENSORED]                                                                                                                                                                                                                                                                                                                                                                                                          |\n",
      "|I wish Amazon would allow parents to block certain content from being downloaded.  I have deleted this game from my child's device for violent content.                                                                                                                                                                                                                                                                                                                                                                                                                                                                                                                                                                                                                                                       |\n",
      "|Great game be prepared to spend [CENSORED] money to upgrade  more quickly, [CENSORED] if your looking for a free to play game it is. but it isn't. Love it and would recommend it to all who want enjoy a game that is ever evolving and changing  this is it.                                                                                                                                                                                                                                                                                                                                                                                                                                                                                                                                                |\n",
      "|I r8 8/8 m8 its gr8 m8                                                                                                                                                                                                                                                                                                                                                                                                                                                                                                                                                                                                                                                                                                                                                                                        |\n",
      "|This game is fun and addictive, but customer service from MZ is horrible!  Glitches are frequent and MZ is horrible about making good on them.  It is literally like talking to a [CENSORED].  Be very careful with the get more button.  It does not bring you to a package you need.  Keep ALL receipts!!!  Because even if you send MZ a screen shot [CENSORED] your purchase, they [CENSORED] say that the item you are looking for is not in the package you purchased.  Good Luck!                                                                                                                                                                                                                                                                                                                      |\n",
      "|Wow finally someone [CENSORED] a game like this Awsome other people [CENSORED] send recorses right? I [CENSORED] but who ever [CENSORED] this game needs a [CENSORED]  thank you                                                                                                                                                                                                                                                                                                                                                                                                                                                                                                                                                                                                                              |\n",
      "|Sucks The ultimate D<br /><br />Sucks DD&amp;D                                                                                                                                                                                                                                                                                                                                                                                                                                                                                                                                                                                                                                                                                                                                                                |\n",
      "|Awesome                                                                                                                                                                                                                                                                                                                                                                                                                                                                                                                                                                                                                                                                                                                                                                                                       |\n",
      "|100 dollars to get items. The only people that [CENSORED] win at this game are either way [CENSORED] or stupid [CENSORED] me. Probably both.                                                                                                                                                                                                                                                                                                                                                                                                                                                                                                                                                                                                                                                                  |\n",
      "|Love this                                                                                                                                                                                                                                                                                                                                                                                                                                                                                                                                                                                                                                                                                                                                                                                                     |\n",
      "|This is (in my opinion) the [CENSORED] timer app I have ever seen! Sometimes I just like to watch the timer go down because the pegs on the outside are [CENSORED] cool! I have recommended this app to all my friends. Love it!                                                                                                                                                                                                                                                                                                                                                                                                                                                                                                                                                                              |\n",
      "|Great game but lags a bit through amazon                                                                                                                                                                                                                                                                                                                                                                                                                                                                                                                                                                                                                                                                                                                                                                      |\n",
      "|Sometimes you just want a genre without picking particular artists                                                                                                                                                                                                                                                                                                                                                                                                                                                                                                                                                                                                                                                                                                                                            |\n",
      "|They should have more mud priced packaged for people on a tight budget                                                                                                                                                                                                                                                                                                                                                                                                                                                                                                                                                                                                                                                                                                                                        |\n",
      "+--------------------------------------------------------------------------------------------------------------------------------------------------------------------------------------------------------------------------------------------------------------------------------------------------------------------------------------------------------------------------------------------------------------------------------------------------------------------------------------------------------------------------------------------------------------------------------------------------------------------------------------------------------------------------------------------------------------------------------------------------------------------------------------------------------------+\n",
      "only showing top 20 rows\n",
      "\n",
      "\n",
      " Paso 4 de 4: Reseñas anonimizadas y filtradas.\n"
     ]
    },
    {
     "name": "stderr",
     "output_type": "stream",
     "text": [
      "                                                                                \r"
     ]
    }
   ],
   "source": [
    "# Tratamiento del campo 'text'\n",
    "print(\"Iniciando el proceso de anonimización de texto...\")\n",
    "\n",
    "# Cargar las listas de palabras sensibles en el Driver\n",
    "print(\"Cargando listas de nombres y lugares...\")\n",
    "sensitive_words = load_sensitive_words_from_urls([URL_CIUDADES_PAISES, URL_NOMBRES, URL_APELLIDOS])\n",
    "\n",
    "# Se comprueba si la lista de palabras sensibles se cargó con éxito.\n",
    "if sensitive_words:\n",
    "    # Si la lista NO está vacía, se procede con las operaciones de Spark.\n",
    "    \n",
    "    # **Optimización Clave**: Distribuir las listas a todos los nodos con 'broadcast'\n",
    "    sensitive_words_broadcast = spark.sparkContext.broadcast(sensitive_words)\n",
    "    print(f\"Listas cargadas y distribuidas vía broadcast. Total de términos sensibles: {len(sensitive_words_broadcast.value)}\")\n",
    "\n",
    "    # Registrar la función de lógica como una UDF de Spark\n",
    "    anonymize_text_udf = udf(lambda text: anonymize_text_udf_logic(text, sensitive_words_broadcast), StringType())\n",
    "\n",
    "    # Aplicar la UDF a 'df_reviews' para crear la nueva columna anonimizada\n",
    "    print(\"Aplicando la UDF de anonimización a la columna 'text'...\")\n",
    "    # El marco normativo indica que el campo se anonimiza, no se crea uno nuevo \n",
    "    # por lo que el resultado reemplazará la columna 'text'.\n",
    "    df_reviews = df_reviews.withColumn(\"text_anonymized\", anonymize_text_udf(col(\"text\")))\n",
    "\n",
    "    # Filtrar las reseñas para cumplir con el requisito de longitud mínima \n",
    "    print(\"Filtrando reseñas para que tengan un mínimo de 15 caracteres...\")\n",
    "    #df_reviews = df_reviews.filter(length(col(\"text_anonymized\")) >= 15)\n",
    "\n",
    "    # Elimar columnas que ya no se usan\n",
    "    df_reviews = df_reviews.drop(\"text\").withColumnRenamed(\"text_anonymized\", \"review\")\n",
    "\n",
    "    # Es buena práctica liberar la variable de broadcast al final.\n",
    "    sensitive_words_broadcast.unpersist()\n",
    "    \n",
    "    # Muestra del resultado\n",
    "    print(\"\\n Resultado de la anonimización del campo 'text'\")\n",
    "    df_reviews.select(\"review\").show(20, truncate=False)\n",
    "    \n",
    "    print(\"\\n Paso 4 de 4: Reseñas anonimizadas y filtradas.\")\n",
    "else:\n",
    "    # Si la lista SÍ está vacía, se informa al usuario y no se ejecuta ninguna operación de Spark.\n",
    "    # Esto evita el error de usar un contexto detenido.\n",
    "    print(\"---------------------------------------------------------------------------\")\n",
    "    print(\"ABORTE: No se cargaron palabras sensibles. No se realizó ninguna transformación.\")\n",
    "    print(\"---------------------------------------------------------------------------\")\n",
    "\n"
   ]
  },
  {
   "cell_type": "code",
   "execution_count": 46,
   "id": "8a4e61d4-da18-4f70-bf39-fa8cd7c0adef",
   "metadata": {},
   "outputs": [
    {
     "name": "stdout",
     "output_type": "stream",
     "text": [
      "\n",
      "¡Proceso de transformación completado!\n",
      "\n",
      "Mostrando el esquema final del DataFrame:\n",
      "root\n",
      " |-- rating: float (nullable = true)\n",
      " |-- title: string (nullable = true)\n",
      " |-- asin: string (nullable = true)\n",
      " |-- parent_asin: string (nullable = true)\n",
      " |-- verified_purchase: boolean (nullable = true)\n",
      " |-- helpful_vote: long (nullable = true)\n",
      " |-- category: string (nullable = true)\n",
      " |-- datetime: string (nullable = true)\n",
      " |-- user_id: string (nullable = true)\n",
      " |-- review: string (nullable = true)\n",
      "\n"
     ]
    }
   ],
   "source": [
    "print(\"\\n¡Proceso de transformación completado!\")\n",
    "# --- Verificación Final ---\n",
    "print(\"\\nMostrando el esquema final del DataFrame:\")\n",
    "df_reviews.printSchema()"
   ]
  },
  {
   "cell_type": "markdown",
   "id": "0d9ec2b6-68df-4f69-a732-f86b6ef541db",
   "metadata": {},
   "source": [
    "## Almacenar datos limpios en capa Silver"
   ]
  },
  {
   "cell_type": "code",
   "execution_count": 47,
   "id": "0485ff29-f0fb-4939-85f4-d21ea75165a3",
   "metadata": {},
   "outputs": [
    {
     "name": "stdout",
     "output_type": "stream",
     "text": [
      "Guardando DataFrames procesados en la capa Silver...\n"
     ]
    },
    {
     "name": "stderr",
     "output_type": "stream",
     "text": [
      "                                                                                \r"
     ]
    },
    {
     "name": "stdout",
     "output_type": "stream",
     "text": [
      "Proceso de calidad y almacenamiento completado.\n"
     ]
    },
    {
     "name": "stderr",
     "output_type": "stream",
     "text": [
      "25/06/22 23:30:58 WARN BlockManagerMasterEndpoint: No more replicas available for broadcast_59_python !\n"
     ]
    }
   ],
   "source": [
    "# Almacenamiento del dataset unificado en la capa Silver \"gs://lk_silver/GSC/products/\"\n",
    "print(\"Guardando DataFrames procesados en la capa Silver...\")\n",
    "\n",
    "df_reviews.write.mode(\"overwrite\").parquet(silver_path)\n",
    "\n",
    "print(\"Proceso de calidad y almacenamiento completado.\")"
   ]
  },
  {
   "cell_type": "markdown",
   "id": "4e1f81d7-7d44-4846-9601-331f4e4f2c8c",
   "metadata": {},
   "source": [
    "## Detener SparkSession"
   ]
  },
  {
   "cell_type": "code",
   "execution_count": 48,
   "id": "f97e3443-bb49-4897-b865-ca112c7f6065",
   "metadata": {},
   "outputs": [],
   "source": [
    "# Detener la SparkSession\n",
    "spark.stop()"
   ]
  }
 ],
 "metadata": {
  "kernelspec": {
   "display_name": "PySpark",
   "language": "python",
   "name": "pyspark"
  },
  "language_info": {
   "codemirror_mode": {
    "name": "ipython",
    "version": 3
   },
   "file_extension": ".py",
   "mimetype": "text/x-python",
   "name": "python",
   "nbconvert_exporter": "python",
   "pygments_lexer": "ipython3",
   "version": "3.10.8"
  }
 },
 "nbformat": 4,
 "nbformat_minor": 5
}
